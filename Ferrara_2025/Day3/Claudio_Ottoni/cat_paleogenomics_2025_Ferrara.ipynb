{
 "cells": [
  {
   "cell_type": "markdown",
   "id": "35e012f0-0fac-475d-9521-0030f96391bf",
   "metadata": {
    "deletable": false,
    "slideshow": {
     "slide_type": ""
    },
    "tags": []
   },
   "source": [
    "# Ancient DNA and the dispersal of domestic cats into Europe"
   ]
  },
  {
   "cell_type": "markdown",
   "id": "d425922d-5103-465d-8be1-647dd6317d46",
   "metadata": {},
   "source": [
    "In this hands-on session we will analyse the data from the study of [**De Martino et al.**](https://www.biorxiv.org/content/10.1101/2025.03.28.645893v1.full), in which 70 low-coverage (∼0.07-fold to ∼1.39-fold) ancient genomes of cats dated to the last 10 thousand years were analysed to investigate the introduction of domestic cats to Europe and gene flow across time between wild and domestic cats. "
   ]
  },
  {
   "cell_type": "markdown",
   "id": "d4bd5ccb-980b-4ac0-a434-5b4fd26aae82",
   "metadata": {},
   "source": [
    "## 1. Full mtDNA phylogeny"
   ]
  },
  {
   "cell_type": "markdown",
   "id": "0925be99-756c-42a4-ac08-1e10fd7fb49a",
   "metadata": {},
   "source": [
    "We will start by making a phylogenetic tree of high coverage complete mtDNAs. To do that we will work in bash, and more particularly we will use a series of tools that were installed in a conda environment called *bioinf*."
   ]
  },
  {
   "cell_type": "markdown",
   "id": "29831340-45fc-4667-93bd-95e054ae5554",
   "metadata": {},
   "source": [
    "<div class=\"alert alert-block alert-warning\">\n",
    "<b>NOTE:</b> Make sure that the notebook's Kernel (top-right of this notebook) is set to <b>bioinf</b>, so as to activate the conda environment and work in bash. \n",
    "</div>"
   ]
  },
  {
   "cell_type": "markdown",
   "id": "bad0f9ae-09c1-4182-917e-56cebc9606b0",
   "metadata": {},
   "source": [
    "To make sure all the programs installed in the conda environment are found, we need to add the path of the conda environment’s *bin* folder to the PATH variable in the notebook. <span style=\"color:red\">**Please note that the path must be changed based on the location where you are working in your local machine.**<span>"
   ]
  },
  {
   "cell_type": "code",
   "execution_count": null,
   "id": "6f67b8d4-a5ba-4858-9556-bfb976c7d879",
   "metadata": {},
   "outputs": [],
   "source": [
    "import os\n",
    "os.environ[\"PATH\"] = \"/Users/claudio/miniconda3/envs/bioinf/bin:\" + os.environ[\"PATH\"]\n",
    "#os.environ[\"PATH\"] = \"/home/studente/miniconda3/envs/bioinf/bin:\" + os.environ[\"PATH\"]"
   ]
  },
  {
   "cell_type": "markdown",
   "id": "f35d8e0f-adb1-4c5d-b8a2-77f3758924ab",
   "metadata": {},
   "source": [
    "You can check the content of the folder in which you are working by typing the bash command *ls*."
   ]
  },
  {
   "cell_type": "code",
   "execution_count": null,
   "id": "56b91aa6-a346-4e88-ae24-9645c1c42456",
   "metadata": {},
   "outputs": [],
   "source": [
    "ls"
   ]
  },
  {
   "cell_type": "markdown",
   "id": "fb580966-a13d-4938-8bd3-d0728bb93969",
   "metadata": {},
   "source": [
    "The current working folder contains the *fasta* multiple alignment file of all the mtDNAs generated in the study by De Martino et al., plus additional samples from the literature. To run some bash commands in Jupyter you will have to type an exclamation mark (!) before the command itself (e.g. *head*, *less*). "
   ]
  },
  {
   "cell_type": "markdown",
   "id": "65e5e124-c4f6-42a3-8122-5894cddf0994",
   "metadata": {},
   "source": [
    "We will now run a Maximum-likelihood tree of the mtDNA sequences in the fasta aligment with the program [**IQ-TREE**](https://iqtree.github.io/doc/)."
   ]
  },
  {
   "cell_type": "code",
   "execution_count": null,
   "id": "1534ab15-9e8e-449f-8c69-f7e684936265",
   "metadata": {},
   "outputs": [],
   "source": [
    "# Run iqtree\n",
    "!iqtree -s Cats_alignment_mtDNA_v8_withOUTGROUP.fasta -m MFP -o FMA08 -redo"
   ]
  },
  {
   "cell_type": "markdown",
   "id": "252a89c4-42c1-4883-a7ff-a3a9721f66fd",
   "metadata": {},
   "source": [
    "<div class=\"alert alert-block alert-warning\">\n",
    "<b>NOTA:</b> Impostare la Kernel del Notebook sull'environment conda <b>ete3<b>. \n",
    "</div>"
   ]
  },
  {
   "cell_type": "markdown",
   "id": "dda9e593-c301-41aa-a2a8-c2e5757e8fef",
   "metadata": {},
   "source": [
    "Let's explore now the output of the IQ-TREE run. The program generated the tree in a file with the extension *.treefile*. We can draw the ML-Tree with a python tool called [**ETE-Toolkit**](https://etetoolkit.org/docs/latest/tutorial/index.html)."
   ]
  },
  {
   "cell_type": "code",
   "execution_count": null,
   "id": "758a684b-8464-4c09-b4ab-d9f54c73e073",
   "metadata": {},
   "outputs": [],
   "source": [
    "# import with python the ete3 tools and store the tree in an object called t. \n",
    "from ete3 import (Tree, PhyloTree)\n",
    "t = Tree(\"Cats_alignment_mtDNA_v8_withOUTGROUP.fasta.treefile\")\n",
    "# let's make clear in the tree that the outgroup we are using is the samples FMA08 (Felis margarita)\n",
    "t.set_outgroup(\"FMA08\")"
   ]
  },
  {
   "cell_type": "code",
   "execution_count": null,
   "id": "cca6d8b3-491f-45b4-8103-5a1b2d7c8c05",
   "metadata": {},
   "outputs": [],
   "source": [
    "# to plot the tree\n",
    "t.render(\"%%inline\")"
   ]
  },
  {
   "cell_type": "markdown",
   "id": "c3eb2590-48a2-4092-b685-670d21ba562f",
   "metadata": {},
   "source": [
    "More in general, you can import the *treefile* in [**FigTree**](https://tree.bio.ed.ac.uk/software/figtree/) to have a closer look at the tree and customize it with colors for different clades."
   ]
  },
  {
   "cell_type": "markdown",
   "id": "4aeedb0c-daef-48a1-99bb-9fa23e7dc592",
   "metadata": {},
   "source": [
    "To slightyl edit and customize the tree here, we can run the following command amd highlight some samples, in particular the ancient samples from Anatolia (ASK01, BA02, BA03, MENT01) and Bulgaria (DUR01, DUR02, DUR03, DUR04) date to the Neolithic and the Chalcolithic. "
   ]
  },
  {
   "cell_type": "code",
   "execution_count": null,
   "id": "6b820965-1243-4745-acf8-f47167924baa",
   "metadata": {},
   "outputs": [],
   "source": [
    "# customize symbol size and color\n",
    "from ete3 import Tree, TreeStyle, NodeStyle, faces, AttrFace, TextFace\n",
    "symbol_map = {\n",
    "    \"ASK01_merged_mtDNA_final.\": (\"circle\", \"red\"),\n",
    "    \"BA02_DpS_AE_final.\": (\"circle\", \"red\"),\n",
    "    \"BA03_merged_mtDNA_final.\": (\"circle\", \"red\"),\n",
    "    \"MENT01_DpSAN_final.\": (\"circle\", \"red\"),\n",
    "    \"DUR01_DpS_AE_final.\": (\"circle\", \"blue\"),\n",
    "    \"DUR02_DpS_AE_final.\": (\"circle\", \"blue\"),\n",
    "    \"DUR03_DpS_AD_final.\": (\"circle\", \"blue\"),\n",
    "    \"KOP04_merged_mtDNA_final.\": (\"circle\", \"blue\"),\n",
    "}\n",
    "\n",
    "for leaf in t.iter_leaves():\n",
    "    shape, color = symbol_map.get(leaf.name, (\"circle\", \"black\"))\n",
    "    nstyle = NodeStyle()\n",
    "    nstyle[\"shape\"] = shape\n",
    "    nstyle[\"size\"] = 8\n",
    "    nstyle[\"fgcolor\"] = color\n",
    "    leaf.set_style(nstyle)"
   ]
  },
  {
   "cell_type": "code",
   "execution_count": null,
   "id": "b9748825-9b7d-49fb-a9e2-f5b95e0f3de8",
   "metadata": {},
   "outputs": [],
   "source": [
    "# to plot the tree\n",
    "t.render(\"%%inline\")"
   ]
  },
  {
   "cell_type": "markdown",
   "id": "057340b5-b48b-4acd-85c5-bf62d1d09738",
   "metadata": {},
   "source": [
    "You can compare the output with the original figure of the study, where the various clades are better identified. \n",
    "<span style=\"color:red\">**Where do the samples from Neolithic Anatolia (samples ASK01, BA02, BA03, MENT01) cluster?**</span>"
   ]
  },
  {
   "cell_type": "markdown",
   "id": "a64984f6-0f7b-41fc-89fc-a6c01e844dd4",
   "metadata": {},
   "source": [
    "<center><img src=\"images/Fig_mtDNA_tree.pdf\"\n",
    "            width=\"500\"/></center>"
   ]
  },
  {
   "cell_type": "markdown",
   "id": "1de8d109-90c0-4530-a8c7-5c95264a3662",
   "metadata": {},
   "source": [
    "## 2. PCA of genome-wide data"
   ]
  },
  {
   "cell_type": "markdown",
   "id": "57e17f1e-e012-4421-993b-88960264fba7",
   "metadata": {},
   "source": [
    "Let's now have a look at the genome data. A panel of single nucleotide polymorphisms (SNPs) was built by calling variants in present-day wild and domestic cats generated in  De Martino et al. and from the literature (n=56, coverage >10-fold). These SNPs were used to call pseudohaploid genotypes in both ancient and low- to mid-coverage modern genomes (coverage <10-fold). Only autosomal variants were retained in all the panels. For the downstream population genomic analyses including ancient samples, transitions were excluded in order to exclude any potential bias from *post-mortem* damage (miscoding lesions C-T and G-A). \n",
    "\n",
    "You can find below a Principal Component Analysis (PCA) built with *smartpca*, which is part of the [**EIGENSOFT**](https://github.com/DReichLab/EIG) package. With *smartpca*, low coverage samples are projected onto the coordinate space defined by modern mid- to high-range coverage wild and domestic cats."
   ]
  },
  {
   "cell_type": "markdown",
   "id": "ef607b9e-41db-4be6-a2a2-cbd0c061fc3b",
   "metadata": {},
   "source": [
    "<center><img src=\"images/PCA.png\"\n",
    "            width=\"900\"/></center>"
   ]
  },
  {
   "cell_type": "markdown",
   "id": "b1f201f5-7b34-4dbd-aa3f-777f95a7d77e",
   "metadata": {},
   "source": [
    "The PCA is showing that that Neolithic and Chalcolithic cats from Anatolia and Bulgaria (blue and red circles) which possessed a mtDNA typical of *Felis lybica lybica* are actually European wildcats (*F. silvestris*)! Conflicting mitochondrial and nuclear evolutionary histories (i.e. **mitonuclear discordance**) may be due either to hybridization or incomplete lineage sorting (ILS). In this case, given the clear biogeographic pattern of mitonuclear discordance as illustrated in the ancient European wildcats (it is present in Anatolia and Southeast Europe, but absent in Central and Western Europe), ILS can be ruled out. You can read more about this in the manuscripts by [Toews et al. 2012](https://onlinelibrary.wiley.com/doi/10.1111/j.1365-294X.2012.05664.x) and [Funk and Omeland 2003](https://www.annualreviews.org/content/journals/10.1146/annurev.ecolsys.34.011802.132421).\n"
   ]
  },
  {
   "cell_type": "markdown",
   "id": "0c78a875-467d-4ac1-8590-0ff059a3bed8",
   "metadata": {
    "deletable": false,
    "slideshow": {
     "slide_type": ""
    },
    "tags": []
   },
   "source": [
    "## 3. Admixtools - preparation of the dataset\n",
    "To investigate genetic relationships among the samples of the dataset and the patterns of hybridization between wild and domestic cats across time we will use [**ADMIXTOOLS 2**](https://uqrmaie1.github.io/admixtools/index.html) and the [***f*- and *D*-statistics**](https://uqrmaie1.github.io/admixtools/articles/fstats.html). "
   ]
  },
  {
   "cell_type": "markdown",
   "id": "99566b1f-06a0-4108-862d-d3a70e2f0f5f",
   "metadata": {},
   "source": [
    "<div class=\"alert alert-block alert-warning\">\n",
    "<b>NOTE:</b> Make sure that the notebook's Kernel is set on R.\n",
    "</div>"
   ]
  },
  {
   "cell_type": "markdown",
   "id": "edf80bc1-7a0a-4fa4-9ed2-4147d33b7854",
   "metadata": {},
   "source": [
    "#### 3.1. Preparation of the dataset"
   ]
  },
  {
   "cell_type": "markdown",
   "id": "2657a12e-cf30-430c-8bf9-603ea2201b16",
   "metadata": {
    "editable": true,
    "slideshow": {
     "slide_type": ""
    },
    "tags": []
   },
   "source": [
    "First, we have to set the path to the folder containing the files that we will use in this practical session. We are saving the path in a variable called \"dd\", that will be used later by the R package [**glue**](https://www.rdocumentation.org/packages/glue/versions/1.8.0) as shortcut of the path. <span style=\"color:red\">**Please note that the path must be changed based on the location where you are working in your local machine.**<span>"
   ]
  },
  {
   "cell_type": "code",
   "execution_count": null,
   "id": "babac9c5-6f64-42e5-9bf5-4342220324ef",
   "metadata": {
    "editable": true,
    "slideshow": {
     "slide_type": ""
    },
    "tags": []
   },
   "outputs": [],
   "source": [
    "# this path must be changed based on the position of the working folder in your local machine.\n",
    "dd = '/Users/claudio/Documents/WORK/4-BIOINFORMATICS_OTHER/Jupyter_notebooks/cat_paleogenomics_Apr2025'\n",
    "#dd = '/home/studente/cat_paleogenomics_Apr2025'"
   ]
  },
  {
   "cell_type": "markdown",
   "id": "16fb48d1-cc4f-465c-8b44-bac83514b370",
   "metadata": {},
   "source": [
    "Then, we activate the R libraries needed for the analysis. Pay attention to any error messages returned while loading the libraries. The missing libraries must be installed directly in R. "
   ]
  },
  {
   "cell_type": "code",
   "execution_count": null,
   "id": "157f753c-d1a6-4f83-85a3-8c35d693c4bf",
   "metadata": {},
   "outputs": [],
   "source": [
    "library(admixtools)\n",
    "library(genio)\n",
    "library(glue)\n",
    "library(gplots)\n",
    "library(tidyverse)\n",
    "library(data.table)\n",
    "options(warn=-1) #switch off warnings \n",
    "#options(warn=0) # switch on warnings"
   ]
  },
  {
   "cell_type": "markdown",
   "id": "1dfc3147-291a-40ca-a2f0-aa78ec5016a2",
   "metadata": {},
   "source": [
    "We will use, amongst others, R functions prepared by [Benjamin Peter](https://github.com/BenjaminPeter) to create charts. To activate these functions in R, we must call a file in which they are contained with the command *source*. Below, we use *glue* to paste the path containd in dd to the name of the file (*analysis.R*), which is contained in the working folder."
   ]
  },
  {
   "cell_type": "code",
   "execution_count": null,
   "id": "1943f2b2-6712-46a0-a1b5-7a4e93e60628",
   "metadata": {
    "scrolled": true
   },
   "outputs": [],
   "source": [
    "source(glue('{dd}/analysis.R'))"
   ]
  },
  {
   "cell_type": "markdown",
   "id": "737c193b-6fe9-4210-a115-322e2d93989f",
   "metadata": {},
   "source": [
    "#### 3.2. Importing the panel input files\n",
    "To analysed the genome-wide data in ancient and modern individuals we will use specific file formats, called [**eigenstrat**](https://reich.hms.harvard.edu/software/InputFileFormats), to store information about SNPs at the genome wide level from individuals originating from different populations. All the information (SNPs positions for each individual, population of origin and other possible metadata) are stored in three files, *.snp*, *.ind*, *.geno*. Here is a schematization of how their layout. "
   ]
  },
  {
   "cell_type": "markdown",
   "id": "9da2d0d3-c7df-4506-aa92-a8fb23ac6bf1",
   "metadata": {},
   "source": [
    "<center><img src=\"images/eigenstrat.png\"\n",
    "            width=\"900\"/></center>"
   ]
  },
  {
   "cell_type": "markdown",
   "id": "923f5cbb-6bd2-49f7-8d78-93fd256e0ece",
   "metadata": {},
   "source": [
    "Let's first import the *file.ind* containing the information (metadata) of the individual analysed. We are importing the data as a table with three columns, corresponding to the ID of the inidividual, sex (this can be omitted) and the population to which the individual belong. "
   ]
  },
  {
   "cell_type": "code",
   "execution_count": null,
   "id": "2ddf7713-6f51-4a82-85b9-f6d278b80039",
   "metadata": {},
   "outputs": [],
   "source": [
    "ind_all <- readr::read_table(glue(\"{dd}/panel_cats_2025_Europe/final_merged_panel_ind131_maf002_LD50502_Tv.ind\"), col_names=c(\"ind\", \"sex\", \"pop\"), col_types='ccc')\n"
   ]
  },
  {
   "cell_type": "markdown",
   "id": "e069d9e9-8cfc-4d7b-9043-2af842742fdf",
   "metadata": {},
   "source": [
    "We can view the entire list of individuals by typing *ind_all*, or even just the list of populations present in the dataset we are analyzing by typing *ind_all$pop*. We could also create a list of all the populations sorted by name to consult upon neccessity. "
   ]
  },
  {
   "cell_type": "code",
   "execution_count": null,
   "id": "5758d3ae-f4c3-4d7c-9526-cf9392771955",
   "metadata": {},
   "outputs": [],
   "source": [
    "pops = sort(unique(ind_all$pop))\n",
    "ind_all"
   ]
  },
  {
   "cell_type": "markdown",
   "id": "b0ee0814-0ba4-49db-8ee5-e9321bc1d023",
   "metadata": {},
   "source": [
    "Next, we can create three new objects. The first returns the path to the folder containing the SNPs dataset we are analyzing (*filename.geno*, *filename.ind*, *filename.snp*). In order for admixtools to be able to read these three files we need to add the name (without the final extension) of the three files, which must be the same for all three, to the path of the folder containing them. The *f2_all* object is the path to the subfolder (which was created specifically beforehand) inside which the results of admixtools will be saved."
   ]
  },
  {
   "cell_type": "code",
   "execution_count": null,
   "id": "b9b1b6dd-070e-48ec-9157-13277a502a18",
   "metadata": {},
   "outputs": [],
   "source": [
    "panel = glue('{dd}/panel_cats_2025_Europe/final_merged_panel_ind131_maf002_LD50502_Tv')\n",
    "f2_all = glue('{dd}/panel_cats_2025_Europe/f2_values')"
   ]
  },
  {
   "cell_type": "markdown",
   "id": "fbb8c349-f8bd-4d40-8d78-d6898876979e",
   "metadata": {},
   "source": [
    "#### 3.3. Reading the panel and estimating the *f*2 values\n",
    "We first estimate the values of *f*2, which will then be used to calculate the *f*3 and *f*4 as well. The following command allows admixtools to read the SNPs data for each individual composing our dataset. "
   ]
  },
  {
   "cell_type": "code",
   "execution_count": null,
   "id": "ae4895e9-76d2-4283-b228-af3c89c2e638",
   "metadata": {},
   "outputs": [],
   "source": [
    "geno_ancient = read_eigenstrat(panel)"
   ]
  },
  {
   "cell_type": "markdown",
   "id": "d4114807-5e44-49b3-b6ac-75bd4f714a20",
   "metadata": {},
   "source": [
    "<span style=\"color:red\">**How many SNPs have been read?**</span>"
   ]
  },
  {
   "cell_type": "markdown",
   "id": "6f01e04e-9b9e-4c78-81f6-43ff46938a49",
   "metadata": {},
   "source": [
    "After importing the data, we estimate the *f*2 values. The *blgsize* option indicates the length of the chromosome segments (in centimorgans) to be used as ‘blocks’ for the [**jackknife**](https://uqrmaie1.github.io/admixtools/articles/resampling.html) analysis,  which allows us to calculate the standard errors of our estimates (click on the link to learn more).\n",
    "The calculation takes time, for this reason we have already calculated the *f*2 values for the entire dataset (modern and ancient samples), saving the results in the appropriate folder (*f2_values*). Since there are many ancient genomes of low quality (coverage <1), we use the `maxmiss=1` option, which allows us to maximize the number of SNPs for each pair of samples rather than working with the same set of SNPs for all comparisons (which is possible with high-quality genomes, such as modern ones). Just for your knowledge, the following command is used to estimate the *f*2 values (the command is currenly commented to avoid running it accidentally). "
   ]
  },
  {
   "cell_type": "code",
   "execution_count": null,
   "id": "d2c5f601-7489-4064-b6b4-5469465cdcaf",
   "metadata": {},
   "outputs": [],
   "source": [
    "#admixtools::extract_f2(panel, f2_all, blgsize = 0.05, overwrite=TRUE, maxmiss = 1)"
   ]
  },
  {
   "cell_type": "markdown",
   "id": "68a02579-2163-400a-a742-de1b912abe6e",
   "metadata": {},
   "source": [
    "## 4. *f*3-outgroup analysis\n",
    "Once estimated the *f*2 values, we can use them to calculate the *f*3 values. These can be used to infer the genetic distance between two populations by calculating the outer branch from an **outgroup** (i.e., the drift accumulated from the node separating them to the outgroup, see the red arrow in the figure below). In this configuration, the test is called *f*3-outgroup and we assume that the outgroup didn't mix with the two populations under consideration. \n"
   ]
  },
  {
   "cell_type": "markdown",
   "id": "ba02d464-6588-4dca-9828-a15906cd8192",
   "metadata": {},
   "source": [
    "<center><img src=\"images/F3_outgroup_figure.png\"\n",
    "            width=\"300\"/></center>"
   ]
  },
  {
   "cell_type": "markdown",
   "id": "797493e5-ebc8-488f-88ec-276e13d61e1e",
   "metadata": {},
   "source": [
    "We can now create different vectors corresponding to categories of samples (e.g. geographic regions, domestic cats etc.) that we can use  in the following analyses. \n",
    "Remember that you can always use the vector *pops* that we generated later to visualize the samples. "
   ]
  },
  {
   "cell_type": "code",
   "execution_count": null,
   "id": "1511e2a5-1c7d-4d20-b964-d6f881995624",
   "metadata": {},
   "outputs": [],
   "source": [
    "wc_italy = c('1294_Fss','1302_Fss','1611_Fss','66_Fss','78_Fss','79_Fss','99_Fss','997_Fss')\n",
    "wc_lybica = c('778_Fsl','779_Fsl','FSI47_Fsl','FSI48_Fsl','FSI51_Fsl')\n",
    "wc_levant = c('FSI47_Fsl','FSI48_Fsl','FSI51_Fsl')\n",
    "wc_morocco = '778_Fsl'\n",
    "wc_tunisia = '779_Fsl'\n",
    "dom_modern = c('CGAE18351_DevonRex','CGAE2613_Sphynx','CGAE6166_MaineCoon','CGAE6197_DomesticLonghair','DS05501_RandomBred','Fcat16274_Ragdoll',\n",
    "               'Fcat18666_RandomBred','Fcat18801_RandomBred','Fcat20680_EgyptianMau','Fcat20784_AmericanWirehair','Fcat20822_Ocicat','Fcat20907_SelkirkRex',\n",
    "               'Fcat22054_Siberian','Fcat22335_TurkishAngora','Fcat22361_Persian','Hills2_RandomBred','Katze169_RandomBred','Sizzle_DomesticShorthair')\n",
    "dom_ancient = c('BHHL01','BHHL03','BP01','BP02','BP03','BREM05','BREM07','BRPA24','BRPA27','CAST02',\n",
    "                'CEC03','DH06','GRA01','GSA01','HAIS01','HAIS04','HAIS10','IRT01','LAB01','LHM02',\n",
    "                'LHM03','MRY07','MRY08','MRY09','MRY10','MTR01B','MUS01','PAD01','PAL09','PAL10',\n",
    "                'PNE02','PNE03','SA14','SBR01','SCAT01','SDUC02B')\n",
    "wc_sardinia = c('46_Fsl','52_Fsl','53_Fsl','55_Fsl')"
   ]
  },
  {
   "cell_type": "markdown",
   "id": "7ae8ff3d-6622-4583-9454-eaace1978e66",
   "metadata": {},
   "source": [
    "We can now compute the *f*3 values between modern domestic cats and African wildcats. To do this, we will use the *f*2 values previously estimated on the entire dataset (*f2_all*). The Jungle cat (*Felis chaus*) is used as an outgroup. The populations will be analyzed in rotation using the vectors created earlier. We will also print the table with the results and plot them in separate charts. "
   ]
  },
  {
   "cell_type": "code",
   "execution_count": null,
   "id": "53cdd134-e7d3-4d11-aa5f-765b314c76f3",
   "metadata": {},
   "outputs": [],
   "source": [
    "f3_out = f3(f2_all, pop1='Felis_chaus', pop2=wc_lybica, pop3=dom_modern) %>% arrange(est)"
   ]
  },
  {
   "cell_type": "code",
   "execution_count": null,
   "id": "21ff21b5-be55-4796-a4d3-636a8c289a9a",
   "metadata": {},
   "outputs": [],
   "source": [
    "library(ggplot2)"
   ]
  },
  {
   "cell_type": "code",
   "execution_count": null,
   "id": "5a9e94e1-1027-490e-8be2-02ae18e796b1",
   "metadata": {},
   "outputs": [],
   "source": [
    "# Convert the f3 values (est) and the standard error (se) to numeric\n",
    "f3_out <- f3_out %>%\n",
    "  mutate(\n",
    "    f3 = as.numeric(est),\n",
    "    stderr = as.numeric(se)\n",
    "  )"
   ]
  },
  {
   "cell_type": "code",
   "execution_count": null,
   "id": "622ab0a3-ac65-4c94-83e1-9d793ea07884",
   "metadata": {},
   "outputs": [],
   "source": [
    "# set the options for the size of the plot\n",
    "library(repr)\n",
    "options(repr.plot.width=16, repr.plot.height=16)"
   ]
  },
  {
   "cell_type": "code",
   "execution_count": null,
   "id": "3fe0789c-3676-41d5-9fe6-aa285e156520",
   "metadata": {},
   "outputs": [],
   "source": [
    "# plot the results\n",
    "ggplot(f3_out, aes(x = pop2, y = est, color = pop2)) +\n",
    "  geom_point(fill = \"red\", size=2.5) +\n",
    "  geom_errorbar(aes(ymin = f3 - se, ymax = f3 + se), width = 0.2) +\n",
    "  coord_flip() +\n",
    "  facet_wrap(~ pop3, scales = \"free_y\") +\n",
    "  labs(\n",
    "    title = \"Outgroup f3 statistics\",\n",
    "    subtitle = \"f3(Outgroup; Wildcats, Domestic cats)\",\n",
    "    x = \"Pop2\",\n",
    "    y = \"f3 value\"\n",
    "  ) +\n",
    "  theme_minimal(base_size = 13) +\n",
    "  theme(\n",
    "    strip.text = element_text(face = \"bold\"),\n",
    "    panel.spacing = unit(1, \"lines\"), legend.position = \"none\"\n",
    "  )"
   ]
  },
  {
   "cell_type": "markdown",
   "id": "8477472a-a1d3-4ccd-95f1-0f5b06240b8b",
   "metadata": {},
   "source": [
    "For further interpretation of the results, you can find below a table with the description of each sample (ancient, wild etc).  "
   ]
  },
  {
   "cell_type": "markdown",
   "id": "769fed5e-9b2f-4bd2-814c-7ff40c5ecc01",
   "metadata": {},
   "source": [
    "<img src=\"images/ID_labels.png\" \n",
    "     align=\"center\" \n",
    "     width=\"800\" />"
   ]
  },
  {
   "cell_type": "markdown",
   "id": "6a87130d-30f4-4272-8dea-f17f836a74c0",
   "metadata": {},
   "source": [
    "<span style=\"color:red\">**Which wildcat is genetically closer to the domestic cats tested? Do you notice any differences in the plots of the domestic cats?**</span>"
   ]
  },
  {
   "cell_type": "markdown",
   "id": "7ca5ec79-9bf4-4863-8bbf-52cc4f38851e",
   "metadata": {},
   "source": [
    "<div class=\"alert alert-block alert-success\"> \n",
    "<b>EXERCISE 1a:</b> Add the wildcats from Sardinia (samples 46_Fsl, 52_Fsl, 53_Fsl, 55_Fsl) to the f3-outgroup analysis. Add new cells below and copy/paste/edit the commands above.\n",
    "    \n",
    "- What do you observe?\n",
    "- Which cats are genetically closer to the wildcats from Sardinia tested? \n",
    "- Do you notice any differences in the plots of the four Sardinian wildcats?\n",
    "</div>"
   ]
  },
  {
   "cell_type": "markdown",
   "id": "0c08be08-bfee-49f1-9ced-d83a219f9e9c",
   "metadata": {},
   "source": [
    "<div class=\"alert alert-block alert-success\"> \n",
    "<b>EXERCISE 1b (optional):</b> Add the ancient domestic cats to the analysis (<i>dom_ancient</i>). If needed, adjust the size of the window plots.\n",
    "    \n",
    "- What do you observe?\n",
    "- Do the ancient samples confirm the results? \n",
    "</div>"
   ]
  },
  {
   "cell_type": "markdown",
   "id": "098d25c3-6612-4a8c-9c2f-48db3b32ecb7",
   "metadata": {},
   "source": [
    "## 5. 𝑓4-statistics in ancient and modern domestic cats\n",
    "𝑓4 is the covariance of allele frequencies between two pairs of populations. It measures the shared drift in a set of four populations. It can also be expressed as a sum of 𝑓2-statistics, which we have already estimated before. "
   ]
  },
  {
   "cell_type": "markdown",
   "id": "62b44e20-dd8c-412d-abdd-1d28e82befd8",
   "metadata": {},
   "source": [
    "By estimating 𝑓4 values, the **treeness** between 4 populations is tested in the form 𝑓4(𝐴,𝐵;𝐶,D) and we are in the presence of an **internal branch**. This means that we are testing whether the relationship between four populations are compatible with a tree described in the initial formula. If they are not, it means that the topology of the tree is wrong or that the treeness is altered by a reticulation (i.e. admixture), and a network better exaplains better the phylogeny tested. If the data are consistent with the tree being tested, then the shared drift between the two pairs of populations (f4-tree value) is equal to zero (there is no overlap between the drift paths of the two pairs, see the figure below).\n",
    "On the other hand, a value of f4>0 or f4<0 indicates different topologies of the tree (or the presence of gene flow, see later also about the D-statistic)."
   ]
  },
  {
   "cell_type": "markdown",
   "id": "9ead28e7-dc01-4e45-a1c4-09c437040012",
   "metadata": {},
   "source": [
    "<center><img src=\"images/F4_figure.png\"\n",
    "            width=\"400\"/></center>"
   ]
  },
  {
   "cell_type": "markdown",
   "id": "723b8084-1f39-4092-8f1d-83e688ffd29b",
   "metadata": {},
   "source": [
    "Let's first recall the populations we are dealing with and the groups we identified before."
   ]
  },
  {
   "cell_type": "code",
   "execution_count": null,
   "id": "87f49749-545e-4b44-b956-21d4682f786e",
   "metadata": {},
   "outputs": [],
   "source": [
    "pops"
   ]
  },
  {
   "cell_type": "markdown",
   "id": "2355f10b-36ee-4b53-818d-f388f3ed69d6",
   "metadata": {},
   "source": [
    "#### 5.1. Genetic affinities with African wildcats form the Levant and Tunisia.\n",
    "Here we will use 𝑓4-statistics to test different evolutionary models (trees) representing the relationships between domestic cats and African wildcats. We will first test the relationship between modern wildcats from Sardinia and modern and ancient domestic cats against African wildcats (*F. l. lybica*) from the Levant (Israel), and North Africa (Morocco and Tunisia). When an outgroup is included in the test and the 𝑓4 is significantly different from 0, it is possible to redefine the topology of the tree (hence the relationship between the three other populations) based on the sign of the 𝑓4 value. In a tree configuration where the outgroup is in position 4 (pop4), then 𝑓4<0 indicates higher affinity between pop2 and pop3, whereas 𝑓4>0 indicates higher affinity between pop1 and pop3."
   ]
  },
  {
   "cell_type": "markdown",
   "id": "1e265af5-5064-4bc6-868a-1be57c3383fe",
   "metadata": {},
   "source": [
    "<center><img src=\"images/F4_values.png\"\n",
    "            width=\"900\"/></center>"
   ]
  },
  {
   "cell_type": "markdown",
   "id": "6056a73f-b8a6-4fa9-975e-66d5891ef05d",
   "metadata": {},
   "source": [
    "Here we will use the jungle cat (*F. chaus*) as an outgroup (in position 4), and we will test whether the Sardinian wildcats and domestic cats (in position 3) share more drift with the wildcat from Tunisia (in position 2) and the wildcats from Israel (in position 1). In testing these tree models, we assume that the wild samples are truly wild and did not experience any gene flow with the populations tested. "
   ]
  },
  {
   "cell_type": "code",
   "execution_count": null,
   "id": "5761fb32-da1a-480c-91e7-933d4323e6e6",
   "metadata": {},
   "outputs": [],
   "source": [
    "f4 = f4(f2_all, pop1=wc_levant, pop2=wc_tunisia, pop3=c(wc_sardinia,dom_modern), pop4='Felis_chaus') %>% arrange(est)"
   ]
  },
  {
   "cell_type": "code",
   "execution_count": null,
   "id": "52ee626f-0d78-4564-9ea5-42a35122046f",
   "metadata": {},
   "outputs": [],
   "source": [
    "library(repr)\n",
    "options(repr.plot.width=16, repr.plot.height=10)"
   ]
  },
  {
   "cell_type": "code",
   "execution_count": null,
   "id": "25f1694e-aa3d-4ae3-ad32-029a3942aefa",
   "metadata": {},
   "outputs": [],
   "source": [
    "f4$Threshold <- cut(f4$z,breaks=c(-Inf,-3,\"-3 < qsec <= 3\",3,Inf),labels=c(\"<=-3\",\"-3 < z <= 3\",\">3\"))\n",
    "f4 %>%\n",
    "  mutate(pop3 = fct_reorder(pop3, est), sig=as.factor(abs(z)>3)) %>%\n",
    "  ggplot( aes(x = est, y = pop3,  colour = sig)) +\n",
    "  geom_point() +\n",
    "  geom_vline(xintercept = 0, linetype = 2) +\n",
    "  geom_errorbar(aes(xmin=est-2*se, xmax=est+2*se), width=0.1, size =1, position=position_dodge(0.9)) +\n",
    "  facet_wrap(~ pop1, scales = \"free_y\") +\n",
    "  theme_bw(base_line_size = 0.3, base_rect_size = 1) +\n",
    "  #facet_wrap(~ pop1, scales = \"free_y\") +\n",
    "  labs(\n",
    "    title = \"f4 statistics\",\n",
    "    subtitle = \"f4(WC Levant, WC Tunisia, Sardinia/domestic_cat; Felis chaus)\",\n",
    "    x = \"modern domestic cat\",\n",
    "    y = \"f4 value\"\n",
    "  )  "
   ]
  },
  {
   "cell_type": "markdown",
   "id": "ec1a050d-c83a-4cf6-ac0f-31feba7d98c9",
   "metadata": {},
   "source": [
    "<span style=\"color:red\">**What is the sign of the 𝑓4 values calculated for the samples tested? How can you interpret the results?**</span>"
   ]
  },
  {
   "cell_type": "markdown",
   "id": "7c06c653-c408-4ba3-9b1c-c7bde07b1d65",
   "metadata": {},
   "source": [
    "<div class=\"alert alert-block alert-warning\">\n",
    "<b>NOTE:</b> If you flip entirely the tree structure in the f4 formula, so f4(Felis chaus; Sardinia/domestic_cat; WC Tunisia, WC Levant), you will notice that the results do not change. On the other hands if you filp only pop3 and pop4, so f4(Felis chaus; Sardinia/domestic_cat; WC Levant, WC Tunisia), the values are the same but with they are positive.\n",
    "</div>"
   ]
  },
  {
   "cell_type": "markdown",
   "id": "4092ce32-2325-44af-9c96-6151ab1f52ff",
   "metadata": {},
   "source": [
    "Let's add now also the ancient domestic cats (*dom_ancient*)."
   ]
  },
  {
   "cell_type": "code",
   "execution_count": null,
   "id": "8717c614-2abe-463e-9578-20503c5cae9b",
   "metadata": {},
   "outputs": [],
   "source": [
    "f4 = f4(f2_all, pop1=wc_levant, pop2=wc_tunisia, pop3=c(wc_sardinia,dom_modern,dom_ancient), pop4='Felis_chaus') %>% arrange(est)\n"
   ]
  },
  {
   "cell_type": "code",
   "execution_count": null,
   "id": "f5256a86-b29e-4348-9fc8-d3686eb6de25",
   "metadata": {},
   "outputs": [],
   "source": [
    "library(repr)\n",
    "options(repr.plot.width=16, repr.plot.height=10)"
   ]
  },
  {
   "cell_type": "code",
   "execution_count": null,
   "id": "6d41c269-7fb3-4f3f-b1be-322e2288142e",
   "metadata": {},
   "outputs": [],
   "source": [
    "f4$Threshold <- cut(f4$z,breaks=c(-Inf,-3,\"-3 < qsec <= 3\",3,Inf),labels=c(\"<=-3\",\"-3 < z <= 3\",\">3\"))\n",
    "f4 %>%\n",
    "  mutate(pop3 = fct_reorder(pop3, est), sig=as.factor(abs(z)>3)) %>%\n",
    "  ggplot( aes(x = est, y = pop3,  colour = sig)) +\n",
    "  geom_point() +\n",
    "  geom_vline(xintercept = 0, linetype = 2) +\n",
    "  geom_errorbar(aes(xmin=est-2*se, xmax=est+2*se), width=0.1, size =1, position=position_dodge(0.9)) +\n",
    "  facet_wrap(~ pop1, scales = \"free_y\") +\n",
    "  theme_bw(base_line_size = 0.3, base_rect_size = 1) +\n",
    "  #facet_wrap(~ pop1, scales = \"free_y\") +\n",
    "  labs(\n",
    "    title = \"f4 statistics\",\n",
    "    subtitle = \"f4(WC Levant, WC Tunisia, Sardinia/domestic_cat; Felis chaus)\",\n",
    "    x = \"ancient and modern domestic cat\",\n",
    "    y = \"f4 value\"\n",
    "  )  "
   ]
  },
  {
   "cell_type": "markdown",
   "id": "295e2bad-1e43-4759-b1b7-04b40e6383df",
   "metadata": {},
   "source": [
    "<span style=\"color:red\">**What do you observe and how can you interpret the results? Do the ancient samples confirm the pattern observed in the modern samples?**</span>"
   ]
  },
  {
   "cell_type": "markdown",
   "id": "8ff1f53e-d1a7-4985-9d80-9a536ea464ac",
   "metadata": {},
   "source": [
    "#### 5.2. Genetic affinities with North African wildcats from Tunisia and Morocco.\n",
    "We will now test with the 𝑓4-statistics whether the modern and ancient domestic cats are more closely related to the North African wildcats from Tunisia or from Morocco. The jungle cat will be used as an outgroup, the populations tested (ancient and modern domestic cats) are in position 3, the wildcat from Tunisia in position 2, the wildcat from Morocco in position 1. "
   ]
  },
  {
   "cell_type": "code",
   "execution_count": null,
   "id": "a60ea103-94c1-430d-9556-c38544342de0",
   "metadata": {},
   "outputs": [],
   "source": [
    "f4 = f4(f2_all, pop1=wc_morocco, pop2=wc_tunisia, pop3=c(dom_modern, dom_ancient), pop4='Felis_chaus') %>% arrange(est)"
   ]
  },
  {
   "cell_type": "code",
   "execution_count": null,
   "id": "921bf7eb-8ef6-42ce-b176-611f1e5d127c",
   "metadata": {},
   "outputs": [],
   "source": [
    "library(repr)\n",
    "options(repr.plot.width=10, repr.plot.height=10)"
   ]
  },
  {
   "cell_type": "code",
   "execution_count": null,
   "id": "b576b542-cac5-49eb-ba6d-db467d4d87c8",
   "metadata": {},
   "outputs": [],
   "source": [
    "f4$Threshold <- cut(f4$z,breaks=c(-Inf,-3,\"-3 < qsec <= 3\",3,Inf),labels=c(\"<=-3\",\"-3 < z <= 3\",\">3\"))\n",
    "f4 %>%\n",
    "  mutate(pop3 = fct_reorder(pop3, est), sig=as.factor(abs(z)>3)) %>%\n",
    "  ggplot( aes(x = est, y = pop3,  colour = sig)) +\n",
    "  geom_point() +\n",
    "  geom_vline(xintercept = 0, linetype = 2) +\n",
    "  geom_errorbar(aes(xmin=est-2*se, xmax=est+2*se), width=0.1, size =1, position=position_dodge(0.9)) +\n",
    "  facet_wrap(~ pop1, scales = \"free_y\") +\n",
    "  theme_bw(base_line_size = 0.3, base_rect_size = 1) +\n",
    "  #facet_wrap(~ pop1, scales = \"free_y\") +\n",
    "  labs(\n",
    "    title = \"f4 statistics\",\n",
    "    subtitle = \"f4(WC Morocco, WC Tunisia, domestic_cat; Felis chaus)\",\n",
    "    x = \"ancient and modern domestic cat\",\n",
    "    y = \"f4 value\"\n",
    "  )  "
   ]
  },
  {
   "cell_type": "markdown",
   "id": "7247e8ab-5d5f-4ea2-8ad0-96899560b7d5",
   "metadata": {},
   "source": [
    "<span style=\"color:red\">**What do you observe and how can you interpret the results?**</span>"
   ]
  },
  {
   "cell_type": "markdown",
   "id": "3fc759e6-db7f-4330-9c19-b9e3a8ef4d98",
   "metadata": {},
   "source": [
    "<div class=\"alert alert-block alert-success\"> \n",
    "<b>EXERCISE 2:</b> Add the wildcats from Sardinia (samples 46_Fsl, 52_Fsl, 53_Fsl, 55_Fsl) to the f4 analysis (in position 3). Add new cells below and copy/paste/edit the commands above.\n",
    "    \n",
    "- What do you observe?\n",
    "- How can you explain the pattern observed? \n",
    "</div>"
   ]
  },
  {
   "cell_type": "markdown",
   "id": "5047f4d3-79cc-4521-9a8b-79d40e967266",
   "metadata": {},
   "source": [
    "## 6. D-statistics and gene flow in ancient and modern European wildcats"
   ]
  },
  {
   "cell_type": "markdown",
   "id": "71838904-c436-4d98-8a31-64891b1843af",
   "metadata": {},
   "source": [
    "The 𝑓4-statistics that we used in the previous section were meant to investigate shared ancestry between phylogenetically close populations, North African wildcats (*Felis lybica lybica*) and domestic cats (*Felis catus*), assuming there was negligible gene flow between them. We will now investigate the ancient and modern European wildcats, which is known to have experienced gene flow with domestic cats. Here, we will test the patterns of gene flow that occurred between European wildcats and both North African wildcats (*Felis lybica lybica*) and domestic cats (*Felis catus*). To do that, we will use D-statistics. "
   ]
  },
  {
   "cell_type": "markdown",
   "id": "84696734-e770-4bb3-a0ea-af9ce1050eec",
   "metadata": {},
   "source": [
    "The differences between 𝑓4-statistics and D-statistics are usually negligible, but D-statistics are formally used to test admixture events and were originally adopted to detect gene flow between humans and Neanderthals ([Green et al. 2010](https://www.science.org/doi/10.1126/science.1188021)). D-statistics take more speficially into account shared derived alleles in the configuration **ABBA-BABA** (the reason why this is also called ABBA-BABA test). The fomula below shows how D-values are computed. The figure is taken from a manuscript by [Malinsky et al. (2020)](https://onlinelibrary.wiley.com/doi/10.1111/1755-0998.13265)."
   ]
  },
  {
   "cell_type": "markdown",
   "id": "bb8139dc-5ee8-4db9-b73b-6bc2ef4580c1",
   "metadata": {},
   "source": [
    "<center><img src=\"images/D-stats-Malinski.png\"\n",
    "            width=\"900\"/></center>"
   ]
  },
  {
   "cell_type": "markdown",
   "id": "74244d4a-57a3-47d6-a06a-834db6a854d4",
   "metadata": {},
   "source": [
    "<center><img src=\"images/D-stats-formula.png\"\n",
    "            width=\"300\"/></center>"
   ]
  },
  {
   "attachments": {},
   "cell_type": "markdown",
   "id": "ea9d75ec-89d8-426e-bb4f-f10424f43744",
   "metadata": {},
   "source": [
    "From the formula it appears clear that D values are always between -1 and 1. A positive value indicates an excess of shared derived allele between P1 and P3 (configuration BABA), whereas a negative value indicates an excess of shared derived allele between P2 and P3 (configuration ABBA)."
   ]
  },
  {
   "cell_type": "markdown",
   "id": "d09ed544-719e-42bc-b32d-26bd0d3538a6",
   "metadata": {},
   "source": [
    "Let's now list all the samples that we are going to analyse in distinct vectors based on geography and age (modern vs ancient). "
   ]
  },
  {
   "cell_type": "code",
   "execution_count": null,
   "id": "2418826c-ce7b-4e59-aed2-dc46030915e8",
   "metadata": {},
   "outputs": [],
   "source": [
    "wc_scotland_mod = c('FSX392_Fss','FSX405_Fss')\n",
    "wc_germany_mod = c('FA699_Fss','FA807_Fss','FB139_Fss','FB434_Fss','FC779_Fss','FD582_Fss','FE384_Fss','FF567_Fss','FF975_Fss','FG711_Fss')\n",
    "wc_italy_mod = c('1294_Fss','1302_Fss','1611_Fss','66_Fss','78_Fss','79_Fss','997_Fss','99_Fss')\n",
    "wc_balk_anat_anc = c('ASK01','MENT01','BA02','BA03','KASP01','KASP02','DUR01','DUR02','DUR03','DUR07')\n",
    "wc_europe_anc = c('BHHL03','CET01','COC01','DOS01','DOS03','ECLY01','MUS01','PRN02','ROC01','ROC02','SAR01')"
   ]
  },
  {
   "cell_type": "markdown",
   "id": "8aad91b6-6b61-4f70-be15-d16a149d3717",
   "metadata": {},
   "source": [
    "#### 6.1. Gene flow between ancient European wildcats and African wildcats from the Levant"
   ]
  },
  {
   "cell_type": "markdown",
   "id": "0c1f8ce3-180f-4492-8362-34ea9cf294a2",
   "metadata": {},
   "source": [
    "We will first compute the D-values to test whether there is any signal of gene flow from the African wildcats from the Levant or from domestic cats in the ancient European wildcats (included in two distinct lists, Balkans and the rest of Europe, in pop1). To set up this test, we will use as pop2 an ancient Euopean wildcat that was tested to be \"pure\" (devoid of any *F. l. lybica/F. catus* ancestry). We will use GLCA01, which originates from Mesolithic Ireland (so earlier than any purported introduction of domestic cats in Europe). In pop3 we will use the sample FSI47_Fsl as representative of the African wildcats from the Levant, and the sample Fcat20822_Ocicat as representative of the domestic cats. "
   ]
  },
  {
   "cell_type": "code",
   "execution_count": null,
   "id": "e3c20236-8cba-4c20-bf1f-debd7f2ff620",
   "metadata": {},
   "outputs": [],
   "source": [
    "D = f4(panel, pop1=c(wc_balk_anat_anc, wc_europe_anc), pop2='GLCA01', pop3=c('FSI47_Fsl','Fcat20822_Ocicat'), pop4='Felis_chaus', f4mode = FALSE) %>% arrange(est)\n"
   ]
  },
  {
   "cell_type": "markdown",
   "id": "72d91427-9d28-4d6f-b9f8-f4ecdf248c7a",
   "metadata": {},
   "source": [
    "You must have noticed that we have estimated the f4 directly from the genotype data (stored in the variable *panel* that we created inititally). This operation is slower when dealing with many samples, but it has the advantage that it avoids any problems that may arise from large amounts of missing data. You can read more about it [**here**](https://uqrmaie1.github.io/admixtools/articles/admixtools.html#f4-and-qpdstat). \n",
    "We can now plot the D values in two separate plots. "
   ]
  },
  {
   "cell_type": "code",
   "execution_count": null,
   "id": "5a7eef27-9d29-402a-97e1-963eea1f5b02",
   "metadata": {},
   "outputs": [],
   "source": [
    "# opzioni da impostare per regolare la grandezza della finestra del plot.\n",
    "library(repr)\n",
    "options(repr.plot.width=8, repr.plot.height=8)"
   ]
  },
  {
   "cell_type": "code",
   "execution_count": null,
   "id": "77296d5f-06f2-44e0-b183-61c68bf823a5",
   "metadata": {},
   "outputs": [],
   "source": [
    "D$Threshold <- cut(D$z,breaks=c(-Inf,-3,\"-3 < qsec <= 3\",3,Inf),labels=c(\"<=-3\",\"-3 < z <= 3\",\">3\"))\n",
    "D %>%\n",
    "  mutate(pop1 = fct_reorder(pop1, est), sig=as.factor(abs(z)>3)) %>%\n",
    "  ggplot( aes(x = est, y = pop1,  colour = sig)) +\n",
    "  geom_point() +\n",
    "  geom_vline(xintercept = 0, linetype = 2) +\n",
    "  geom_errorbar(aes(xmin=est-2*se, xmax=est+2*se), width=0.1, size =1, position=position_dodge(0.9)) +\n",
    "  theme_bw(base_line_size = 0.3, base_rect_size = 1) +\n",
    "  facet_wrap(~ pop3, scales = \"free_y\") +\n",
    "  labs(\n",
    "    title = \"D statistics\",\n",
    "    subtitle = \"D(ancient Eur wildcats, Mesolithic European wildcat, Levant wildcat/domestic cat; Felis chaus)\",\n",
    "    x = \"D value\",\n",
    "    y = \"test\"\n",
    "  )  "
   ]
  },
  {
   "cell_type": "markdown",
   "id": "17a968da-1853-42f5-b6cc-75ee8550c667",
   "metadata": {},
   "source": [
    "Interestingly, the results show that most of the ancient wildcats from Anatolia (BA02, BA03, MENT01) and the Balkans or Eastern Europe (DUR samples, KASP01) have significant positive values when testing the gene flow from the Levantine wildcat, but this is not the case when tested against the domestic cat (Ocicat breed). On the contrary, ancient wildcats from Italy and Spain dated to the Neolithic or the Bronze Age (ROC and DOS samples, PRN02, COC01, CET01, SAR01) are not significant in both tests. "
   ]
  },
  {
   "cell_type": "markdown",
   "id": "0cd89d98-1f92-4751-a7e0-9a2f2e35c972",
   "metadata": {},
   "source": [
    "#### 6.2. Including modern wildcats to the analysis\n",
    "We will now include the modern wildcats from Scotland and plot the results. "
   ]
  },
  {
   "cell_type": "code",
   "execution_count": null,
   "id": "19eb8215-cb21-44ad-8ae9-b606d1fdaa76",
   "metadata": {},
   "outputs": [],
   "source": [
    "D = f4(panel, pop1=c(wc_balk_anat_anc, wc_europe_anc, wc_scotland_mod), pop2='GLCA01', pop3=c('FSI47_Fsl','Fcat20822_Ocicat'), pop4='Felis_chaus', f4mode = FALSE) %>% arrange(est)\n"
   ]
  },
  {
   "cell_type": "code",
   "execution_count": null,
   "id": "595fd82c-fde5-4948-a361-301842993d2e",
   "metadata": {},
   "outputs": [],
   "source": [
    "# opzioni da impostare per regolare la grandezza della finestra del plot.\n",
    "library(repr)\n",
    "options(repr.plot.width=8, repr.plot.height=8)"
   ]
  },
  {
   "cell_type": "code",
   "execution_count": null,
   "id": "462249c1-928f-499c-ab36-cc40cfabbd75",
   "metadata": {},
   "outputs": [],
   "source": [
    "D$Threshold <- cut(D$z,breaks=c(-Inf,-3,\"-3 < qsec <= 3\",3,Inf),labels=c(\"<=-3\",\"-3 < z <= 3\",\">3\"))\n",
    "D %>%\n",
    "  mutate(pop1 = fct_reorder(pop1, est), sig=as.factor(abs(z)>3)) %>%\n",
    "  ggplot( aes(x = est, y = pop1,  colour = sig)) +\n",
    "  geom_point() +\n",
    "  geom_vline(xintercept = 0, linetype = 2) +\n",
    "  geom_errorbar(aes(xmin=est-2*se, xmax=est+2*se), width=0.1, size =1, position=position_dodge(0.9)) +\n",
    "  theme_bw(base_line_size = 0.3, base_rect_size = 1) +\n",
    "  facet_wrap(~ pop3, scales = \"free_y\") +\n",
    "  labs(\n",
    "    title = \"D statistics\",\n",
    "    subtitle = \"D(ancient-modern Eur wildcats, Mesolithic European wildcat, Levant wildcat/domestic cat; Felis chaus)\",\n",
    "    x = \"D value\",\n",
    "    y = \"test\"\n",
    "  )"
   ]
  },
  {
   "cell_type": "markdown",
   "id": "f63f9d63-91c6-4df3-acc8-5fa9e4345b79",
   "metadata": {},
   "source": [
    "The Scottish wildcats appear to be significant to gene flow when tested against either the Levantine wildcat and the domestic cat. The Scottish wildcat population is a so-called \"hybrid swarm\", where extensive interbreeding between hybrid individuals and backcrossing with their parent types occur. You can read more about it in [**this study**](https://www.sciencedirect.com/science/article/pii/S0960982223014240)."
   ]
  },
  {
   "cell_type": "markdown",
   "id": "3c796008-2dcc-4a11-ba21-96137c04d301",
   "metadata": {},
   "source": [
    "<div class=\"alert alert-block alert-success\"> \n",
    "<b>EXERCISE 3:</b> Add the other modern European wildcats to the analysis (wc_germany_mod, wc_italy_mod). Add new cells below and copy/paste/edit the commands above.\n",
    "    \n",
    "- What do you observe?\n",
    "- How can you explain the pattern observed? \n",
    "</div>"
   ]
  },
  {
   "cell_type": "markdown",
   "id": "26d14a93-cb6d-42a1-988d-3f576383abaf",
   "metadata": {},
   "source": [
    "We can also plot the results in a single chart to improve the visualization and compare more easily the data. "
   ]
  },
  {
   "cell_type": "code",
   "execution_count": null,
   "id": "8816b5cb-e30c-4121-91bd-45767118be03",
   "metadata": {},
   "outputs": [],
   "source": [
    "library(forcats)\n",
    "\n",
    "# Position dodge for consistent shifting (from ggplot)\n",
    "position_dodge_val <- position_dodge(width = 0.5)"
   ]
  },
  {
   "cell_type": "code",
   "execution_count": null,
   "id": "d141e25b-2442-4150-a981-a489ae7289f6",
   "metadata": {},
   "outputs": [],
   "source": [
    "# Plot\n",
    "D %>%\n",
    "  ggplot(aes(x = est, y = fct_inorder(pop1), colour = Threshold, shape = pop3, group = interaction(pop1, pop3))) +\n",
    "  # Lighter 3*SE error bars\n",
    "  geom_errorbar(\n",
    "    aes(xmin = est - 3 * se, xmax = est + 3 * se),\n",
    "    width = 0.3,\n",
    "    position = position_dodge_val,\n",
    "    alpha = 0.3  # Light color for 3*SE\n",
    "  ) +\n",
    "  # Standard 1*SE error bars\n",
    "  geom_errorbar(\n",
    "    aes(xmin = est - se, xmax = est + se),\n",
    "    width = 0.3,\n",
    "    position = position_dodge_val\n",
    "  ) +\n",
    "  # Data points with different shapes for pop2\n",
    "  geom_point(position = position_dodge_val, size = 3) +\n",
    "  # Reference line at 0\n",
    "  geom_vline(xintercept = 0, linetype = 2) +\n",
    "  # Theme and labels\n",
    "  theme_classic(base_line_size = 0.3, base_rect_size = 1) +\n",
    "  theme(\n",
    "    axis.title = element_text(size = 14),     # Axis titles\n",
    "    axis.text = element_text(size = 12),      # Axis labels\n",
    "    legend.title = element_text(size = 15),   # Legend titles\n",
    "    legend.text  = element_text(size = 13)    # Legend labels\n",
    "  ) +\n",
    "  ggtitle(\n",
    "    label = \"Dstat gene flow from F. lybica/catus into F. silvestris\",\n",
    "    subtitle = \"D(F. chaus, F. lybica/catus; GLCA01, F. silvestris_test)\"\n",
    "  ) +\n",
    "  xlab(\"D-value\") + \n",
    "  ylab(\"European wildcats\") +\n",
    "  # Clear legend titles\n",
    "  guides(\n",
    "    shape = guide_legend(title = \"Source (pop2)\"),\n",
    "    colour = guide_legend(title = \"Threshold\")\n",
    "  )\n"
   ]
  },
  {
   "cell_type": "code",
   "execution_count": null,
   "id": "c8b82ce8-c8cb-48a7-81a0-b983e29e4971",
   "metadata": {},
   "outputs": [],
   "source": []
  }
 ],
 "metadata": {
  "kernelspec": {
   "display_name": "R",
   "language": "R",
   "name": "ir"
  },
  "language_info": {
   "codemirror_mode": "r",
   "file_extension": ".r",
   "mimetype": "text/x-r-source",
   "name": "R",
   "pygments_lexer": "r",
   "version": "4.1.2"
  }
 },
 "nbformat": 4,
 "nbformat_minor": 5
}
